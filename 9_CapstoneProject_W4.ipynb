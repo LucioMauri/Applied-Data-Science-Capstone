{
 "cells": [
  {
   "cell_type": "markdown",
   "metadata": {},
   "source": [
    "# The character of italian cities"
   ]
  },
  {
   "cell_type": "markdown",
   "metadata": {},
   "source": [
    "## Introduction / Business Problem\n",
    "Italian cities are small (see [this wikipedia link](https://en.wikipedia.org/wiki/List_of_cities_in_Italy)): the most pupulated city is Rome, the capital city, with population close to 3 millions. Then comes Milan, the economic capital, with a population of less than 1.5 millios. The population of all the other italian cities is below 1 million, with only 15 cities above 200 thousands and more or less 130 other cities (more than 50 thousands inhabitants).\n",
    "\n",
    "We can think that small cities have a prevailing character or vocation. So our **business problemn** is:\n",
    "\n",
    "- Can we use data to grasp the character of italian cities?\n",
    "\n",
    "This is a very general study, so it may be of interest for several categories of **stakeholders** and at the same time it is not specifically aimed at any of these. We identify two groups of stakeholders:\n",
    "- Tourists: suppose you have a list of your preferred italian cities and you want to visit another Italian city. Then you can chose among the cites similar to your preferred ones.\n",
    "- Investors: suppose you did investments in italian cities. Some of them went very well, some others went less well. If you want to want to invest other money you may chose the cities having a similar *character* as those were you did the best money."
   ]
  },
  {
   "cell_type": "markdown",
   "metadata": {},
   "source": [
    "## Data\n",
    "We will use two main sources of data:\n",
    "1. The list of italian cities. We will take the list from the [italian wikipedia page](https://it.wikipedia.org/wiki/Comuni_d%27Italia_per_popolazione). We don't use the English version linked above because it doesn't provide enough information (in particular doesn't report the province) to get the latitutde and longitude with `geocoder`. The table in the wikipedia page lists the italian cities (population above 50 thousands) starting from the most populated. The colunms report:\n",
    "  - **Rank**. The rank of the city according to its population.\n",
    "  - **City**. The (Italian) name of the city.\n",
    "  - **Region**. Italy is subdivided in 21 regions. The column reports which region the city belongs to.\n",
    "  - **Province**. Italian regions are further subdivided into provinces. The column report the province of the city.\n",
    "  - **Population**. The population of the city.\n",
    "2. The Foursquares database of world venues. More specifically we use the [`explore`](https://developer.foursquare.com/docs/api/venues/explore) request that returns *a list of recommended venues near the current location*, i.e. near each city center. The foursquare response provides several information about the venues and we will leverage the venue *category*. There are more than 900 venue [categories](https://developer.foursquare.com/docs/resources/categories) in foursquare, but each category is a subategory of one of 10 main (or root) categories. We use the **distribution of root categories** of the recommended venues as the information for the clustering of the italian cities."
   ]
  }
 ],
 "metadata": {
  "kernelspec": {
   "display_name": "Python 3",
   "language": "python",
   "name": "python3"
  },
  "language_info": {
   "codemirror_mode": {
    "name": "ipython",
    "version": 3
   },
   "file_extension": ".py",
   "mimetype": "text/x-python",
   "name": "python",
   "nbconvert_exporter": "python",
   "pygments_lexer": "ipython3",
   "version": "3.7.4"
  },
  "toc-autonumbering": false,
  "toc-showcode": false,
  "toc-showmarkdowntxt": false,
  "toc-showtags": false
 },
 "nbformat": 4,
 "nbformat_minor": 4
}
